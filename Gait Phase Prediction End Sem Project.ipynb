{
 "cells": [
  {
   "cell_type": "markdown",
   "metadata": {},
   "source": [
    "# Gait Phase Prediction"
   ]
  },
  {
   "cell_type": "markdown",
   "metadata": {},
   "source": [
    "## 1D Angle Cycle"
   ]
  },
  {
   "cell_type": "code",
   "execution_count": 1,
   "metadata": {},
   "outputs": [],
   "source": [
    "#importing necessary package\n",
    "\n",
    "import pandas as pd\n",
    "import numpy as np\n",
    "from sklearn.metrics import confusion_matrix\n",
    "from sklearn.tree import export_graphviz\n",
    "import pydotplus"
   ]
  },
  {
   "cell_type": "code",
   "execution_count": 2,
   "metadata": {},
   "outputs": [],
   "source": [
    "#loading dataset and the y-label\n",
    "\n",
    "k_trail_one = pd.read_csv(r\"D:\\end sem project\\abhishek dataset\\1D Angle Cycle csv file\\trail_1.csv\")\n",
    "k_trail_two = pd.read_csv(r\"D:\\end sem project\\abhishek dataset\\1D Angle Cycle csv file\\trail_2.csv\")\n",
    "k_trail_three = pd.read_csv(r\"D:\\end sem project\\abhishek dataset\\1D Angle Cycle csv file\\trail_3.csv\")\n",
    "k_trail_four = pd.read_csv(r\"D:\\end sem project\\abhishek dataset\\1D Angle Cycle csv file\\trail_4.csv\")\n",
    "k_trail_five = pd.read_csv(r\"D:\\end sem project\\abhishek dataset\\1D Angle Cycle csv file\\trail_5.csv\")\n",
    "k_trail_six = pd.read_csv(r\"D:\\end sem project\\abhishek dataset\\1D Angle Cycle csv file\\trail_6.csv\")\n",
    "k_trail_seven = pd.read_csv(r\"D:\\end sem project\\abhishek dataset\\1D Angle Cycle csv file\\trail_7.csv\")\n",
    "k_trail_eight = pd.read_csv(r\"D:\\end sem project\\abhishek dataset\\1D Angle Cycle csv file\\trail_8.csv\")\n",
    "k_trail_nine = pd.read_csv(r\"D:\\end sem project\\abhishek dataset\\1D Angle Cycle csv file\\trail_9.csv\")\n",
    "\n",
    "y_label = pd.read_csv(r\"D:\\end sem project\\abhishek dataset\\1D Angle Cycle csv file\\GaitPhaseLabel.csv\")"
   ]
  },
  {
   "cell_type": "code",
   "execution_count": 3,
   "metadata": {},
   "outputs": [
    {
     "data": {
      "text/html": [
       "<div>\n",
       "<style scoped>\n",
       "    .dataframe tbody tr th:only-of-type {\n",
       "        vertical-align: middle;\n",
       "    }\n",
       "\n",
       "    .dataframe tbody tr th {\n",
       "        vertical-align: top;\n",
       "    }\n",
       "\n",
       "    .dataframe thead th {\n",
       "        text-align: right;\n",
       "    }\n",
       "</style>\n",
       "<table border=\"1\" class=\"dataframe\">\n",
       "  <thead>\n",
       "    <tr style=\"text-align: right;\">\n",
       "      <th></th>\n",
       "      <th>Sample</th>\n",
       "      <th>acmLKFE.M</th>\n",
       "      <th>acmLKFE.S</th>\n",
       "      <th>acmLKAA.M</th>\n",
       "      <th>acmLKAA.S</th>\n",
       "      <th>acmLKIE.M</th>\n",
       "      <th>acmLKIE.S</th>\n",
       "      <th>acmLAFE.M</th>\n",
       "      <th>acmLAFE.S</th>\n",
       "      <th>acmLFAA.M</th>\n",
       "      <th>...</th>\n",
       "      <th>acmRPOBLI.M</th>\n",
       "      <th>acmRPOBLI.S</th>\n",
       "      <th>acmRPROT.M</th>\n",
       "      <th>acmRPROT.S</th>\n",
       "      <th>acmLPTILT.M</th>\n",
       "      <th>acmLPTILT.S</th>\n",
       "      <th>acmLPOBLI.M</th>\n",
       "      <th>acmLPOBLI.S</th>\n",
       "      <th>acmLPROT.M</th>\n",
       "      <th>acmLPROT.S</th>\n",
       "    </tr>\n",
       "  </thead>\n",
       "  <tbody>\n",
       "    <tr>\n",
       "      <th>0</th>\n",
       "      <td>0</td>\n",
       "      <td>15.3</td>\n",
       "      <td>0</td>\n",
       "      <td>2.4</td>\n",
       "      <td>0</td>\n",
       "      <td>-11.2</td>\n",
       "      <td>0</td>\n",
       "      <td>4.0</td>\n",
       "      <td>0</td>\n",
       "      <td>1.2</td>\n",
       "      <td>...</td>\n",
       "      <td>2.7</td>\n",
       "      <td>0</td>\n",
       "      <td>1.9</td>\n",
       "      <td>0</td>\n",
       "      <td>5.1</td>\n",
       "      <td>0</td>\n",
       "      <td>-1.4</td>\n",
       "      <td>0</td>\n",
       "      <td>7.0</td>\n",
       "      <td>0</td>\n",
       "    </tr>\n",
       "    <tr>\n",
       "      <th>1</th>\n",
       "      <td>1</td>\n",
       "      <td>16.7</td>\n",
       "      <td>0</td>\n",
       "      <td>1.9</td>\n",
       "      <td>0</td>\n",
       "      <td>-10.1</td>\n",
       "      <td>0</td>\n",
       "      <td>3.3</td>\n",
       "      <td>0</td>\n",
       "      <td>1.1</td>\n",
       "      <td>...</td>\n",
       "      <td>2.9</td>\n",
       "      <td>0</td>\n",
       "      <td>1.8</td>\n",
       "      <td>0</td>\n",
       "      <td>5.2</td>\n",
       "      <td>0</td>\n",
       "      <td>-1.3</td>\n",
       "      <td>0</td>\n",
       "      <td>6.9</td>\n",
       "      <td>0</td>\n",
       "    </tr>\n",
       "    <tr>\n",
       "      <th>2</th>\n",
       "      <td>2</td>\n",
       "      <td>18.0</td>\n",
       "      <td>0</td>\n",
       "      <td>1.5</td>\n",
       "      <td>0</td>\n",
       "      <td>-8.6</td>\n",
       "      <td>0</td>\n",
       "      <td>2.4</td>\n",
       "      <td>0</td>\n",
       "      <td>0.6</td>\n",
       "      <td>...</td>\n",
       "      <td>3.1</td>\n",
       "      <td>0</td>\n",
       "      <td>1.6</td>\n",
       "      <td>0</td>\n",
       "      <td>5.3</td>\n",
       "      <td>0</td>\n",
       "      <td>-1.2</td>\n",
       "      <td>0</td>\n",
       "      <td>6.7</td>\n",
       "      <td>0</td>\n",
       "    </tr>\n",
       "  </tbody>\n",
       "</table>\n",
       "<p>3 rows × 89 columns</p>\n",
       "</div>"
      ],
      "text/plain": [
       "   Sample  acmLKFE.M  acmLKFE.S  acmLKAA.M  acmLKAA.S  acmLKIE.M  acmLKIE.S  \\\n",
       "0       0       15.3          0        2.4          0      -11.2          0   \n",
       "1       1       16.7          0        1.9          0      -10.1          0   \n",
       "2       2       18.0          0        1.5          0       -8.6          0   \n",
       "\n",
       "   acmLAFE.M  acmLAFE.S  acmLFAA.M  ...  acmRPOBLI.M  acmRPOBLI.S  acmRPROT.M  \\\n",
       "0        4.0          0        1.2  ...          2.7            0         1.9   \n",
       "1        3.3          0        1.1  ...          2.9            0         1.8   \n",
       "2        2.4          0        0.6  ...          3.1            0         1.6   \n",
       "\n",
       "   acmRPROT.S  acmLPTILT.M  acmLPTILT.S  acmLPOBLI.M  acmLPOBLI.S  acmLPROT.M  \\\n",
       "0           0          5.1            0         -1.4            0         7.0   \n",
       "1           0          5.2            0         -1.3            0         6.9   \n",
       "2           0          5.3            0         -1.2            0         6.7   \n",
       "\n",
       "   acmLPROT.S  \n",
       "0           0  \n",
       "1           0  \n",
       "2           0  \n",
       "\n",
       "[3 rows x 89 columns]"
      ]
     },
     "execution_count": 3,
     "metadata": {},
     "output_type": "execute_result"
    }
   ],
   "source": [
    "k_trail_one.head(3)"
   ]
  },
  {
   "cell_type": "code",
   "execution_count": 4,
   "metadata": {},
   "outputs": [
    {
     "name": "stdout",
     "output_type": "stream",
     "text": [
      "(101, 89)\n",
      "(101, 89)\n",
      "(101, 89)\n",
      "(101, 89)\n",
      "(101, 89)\n",
      "(101, 89)\n",
      "(101, 89)\n",
      "(101, 89)\n",
      "(101, 89)\n",
      "(101, 1)\n"
     ]
    }
   ],
   "source": [
    "print(k_trail_one.shape)\n",
    "print(k_trail_two.shape)\n",
    "print(k_trail_three.shape)\n",
    "print(k_trail_four.shape)\n",
    "print(k_trail_five.shape)\n",
    "print(k_trail_six.shape)\n",
    "print(k_trail_seven.shape)\n",
    "print(k_trail_eight.shape)\n",
    "print(k_trail_nine.shape)\n",
    "\n",
    "print(y_label.shape)"
   ]
  },
  {
   "cell_type": "code",
   "execution_count": 5,
   "metadata": {},
   "outputs": [],
   "source": [
    "#dropping sample column\n",
    "\n",
    "k_trail_one.drop(\"Sample\", axis = 1, inplace = True)\n",
    "k_trail_two.drop(\"Sample\", axis = 1, inplace = True)\n",
    "k_trail_three.drop(\"Sample\", axis = 1, inplace = True)\n",
    "k_trail_four.drop(\"Sample\", axis = 1, inplace = True)\n",
    "k_trail_five.drop(\"Sample\", axis = 1, inplace = True)\n",
    "k_trail_six.drop(\"Sample\", axis = 1, inplace = True)\n",
    "k_trail_seven.drop(\"Sample\", axis = 1, inplace = True)\n",
    "k_trail_eight.drop(\"Sample\", axis = 1, inplace = True)\n",
    "k_trail_nine.drop(\"Sample\", axis = 1, inplace = True)"
   ]
  },
  {
   "cell_type": "code",
   "execution_count": 6,
   "metadata": {},
   "outputs": [
    {
     "name": "stdout",
     "output_type": "stream",
     "text": [
      "(101, 88)\n",
      "(101, 88)\n",
      "(101, 88)\n",
      "(101, 88)\n",
      "(101, 88)\n",
      "(101, 88)\n",
      "(101, 88)\n",
      "(101, 88)\n",
      "(101, 88)\n"
     ]
    }
   ],
   "source": [
    "print(k_trail_one.shape)\n",
    "print(k_trail_two.shape)\n",
    "print(k_trail_three.shape)\n",
    "print(k_trail_four.shape)\n",
    "print(k_trail_five.shape)\n",
    "print(k_trail_six.shape)\n",
    "print(k_trail_seven.shape)\n",
    "print(k_trail_eight.shape)\n",
    "print(k_trail_nine.shape)"
   ]
  },
  {
   "cell_type": "code",
   "execution_count": 7,
   "metadata": {},
   "outputs": [
    {
     "data": {
      "text/html": [
       "<div>\n",
       "<style scoped>\n",
       "    .dataframe tbody tr th:only-of-type {\n",
       "        vertical-align: middle;\n",
       "    }\n",
       "\n",
       "    .dataframe tbody tr th {\n",
       "        vertical-align: top;\n",
       "    }\n",
       "\n",
       "    .dataframe thead th {\n",
       "        text-align: right;\n",
       "    }\n",
       "</style>\n",
       "<table border=\"1\" class=\"dataframe\">\n",
       "  <thead>\n",
       "    <tr style=\"text-align: right;\">\n",
       "      <th></th>\n",
       "      <th>acmLKFE.M</th>\n",
       "      <th>acmLKFE.S</th>\n",
       "      <th>acmLKAA.M</th>\n",
       "      <th>acmLKAA.S</th>\n",
       "      <th>acmLKIE.M</th>\n",
       "      <th>acmLKIE.S</th>\n",
       "      <th>acmLAFE.M</th>\n",
       "      <th>acmLAFE.S</th>\n",
       "      <th>acmLFAA.M</th>\n",
       "      <th>acmLFAA.S</th>\n",
       "      <th>...</th>\n",
       "      <th>acmRPOBLI.M</th>\n",
       "      <th>acmRPOBLI.S</th>\n",
       "      <th>acmRPROT.M</th>\n",
       "      <th>acmRPROT.S</th>\n",
       "      <th>acmLPTILT.M</th>\n",
       "      <th>acmLPTILT.S</th>\n",
       "      <th>acmLPOBLI.M</th>\n",
       "      <th>acmLPOBLI.S</th>\n",
       "      <th>acmLPROT.M</th>\n",
       "      <th>acmLPROT.S</th>\n",
       "    </tr>\n",
       "  </thead>\n",
       "  <tbody>\n",
       "    <tr>\n",
       "      <th>0</th>\n",
       "      <td>15.3</td>\n",
       "      <td>0</td>\n",
       "      <td>2.4</td>\n",
       "      <td>0</td>\n",
       "      <td>-11.2</td>\n",
       "      <td>0</td>\n",
       "      <td>4.0</td>\n",
       "      <td>0</td>\n",
       "      <td>1.2</td>\n",
       "      <td>0</td>\n",
       "      <td>...</td>\n",
       "      <td>2.7</td>\n",
       "      <td>0</td>\n",
       "      <td>1.9</td>\n",
       "      <td>0</td>\n",
       "      <td>5.1</td>\n",
       "      <td>0</td>\n",
       "      <td>-1.4</td>\n",
       "      <td>0</td>\n",
       "      <td>7.0</td>\n",
       "      <td>0</td>\n",
       "    </tr>\n",
       "    <tr>\n",
       "      <th>1</th>\n",
       "      <td>16.7</td>\n",
       "      <td>0</td>\n",
       "      <td>1.9</td>\n",
       "      <td>0</td>\n",
       "      <td>-10.1</td>\n",
       "      <td>0</td>\n",
       "      <td>3.3</td>\n",
       "      <td>0</td>\n",
       "      <td>1.1</td>\n",
       "      <td>0</td>\n",
       "      <td>...</td>\n",
       "      <td>2.9</td>\n",
       "      <td>0</td>\n",
       "      <td>1.8</td>\n",
       "      <td>0</td>\n",
       "      <td>5.2</td>\n",
       "      <td>0</td>\n",
       "      <td>-1.3</td>\n",
       "      <td>0</td>\n",
       "      <td>6.9</td>\n",
       "      <td>0</td>\n",
       "    </tr>\n",
       "    <tr>\n",
       "      <th>2</th>\n",
       "      <td>18.0</td>\n",
       "      <td>0</td>\n",
       "      <td>1.5</td>\n",
       "      <td>0</td>\n",
       "      <td>-8.6</td>\n",
       "      <td>0</td>\n",
       "      <td>2.4</td>\n",
       "      <td>0</td>\n",
       "      <td>0.6</td>\n",
       "      <td>0</td>\n",
       "      <td>...</td>\n",
       "      <td>3.1</td>\n",
       "      <td>0</td>\n",
       "      <td>1.6</td>\n",
       "      <td>0</td>\n",
       "      <td>5.3</td>\n",
       "      <td>0</td>\n",
       "      <td>-1.2</td>\n",
       "      <td>0</td>\n",
       "      <td>6.7</td>\n",
       "      <td>0</td>\n",
       "    </tr>\n",
       "  </tbody>\n",
       "</table>\n",
       "<p>3 rows × 88 columns</p>\n",
       "</div>"
      ],
      "text/plain": [
       "   acmLKFE.M  acmLKFE.S  acmLKAA.M  acmLKAA.S  acmLKIE.M  acmLKIE.S  \\\n",
       "0       15.3          0        2.4          0      -11.2          0   \n",
       "1       16.7          0        1.9          0      -10.1          0   \n",
       "2       18.0          0        1.5          0       -8.6          0   \n",
       "\n",
       "   acmLAFE.M  acmLAFE.S  acmLFAA.M  acmLFAA.S  ...  acmRPOBLI.M  acmRPOBLI.S  \\\n",
       "0        4.0          0        1.2          0  ...          2.7            0   \n",
       "1        3.3          0        1.1          0  ...          2.9            0   \n",
       "2        2.4          0        0.6          0  ...          3.1            0   \n",
       "\n",
       "   acmRPROT.M  acmRPROT.S  acmLPTILT.M  acmLPTILT.S  acmLPOBLI.M  acmLPOBLI.S  \\\n",
       "0         1.9           0          5.1            0         -1.4            0   \n",
       "1         1.8           0          5.2            0         -1.3            0   \n",
       "2         1.6           0          5.3            0         -1.2            0   \n",
       "\n",
       "   acmLPROT.M  acmLPROT.S  \n",
       "0         7.0           0  \n",
       "1         6.9           0  \n",
       "2         6.7           0  \n",
       "\n",
       "[3 rows x 88 columns]"
      ]
     },
     "execution_count": 7,
     "metadata": {},
     "output_type": "execute_result"
    }
   ],
   "source": [
    "k_trail_one.head(3)"
   ]
  },
  {
   "cell_type": "code",
   "execution_count": 8,
   "metadata": {
    "scrolled": true
   },
   "outputs": [
    {
     "name": "stdout",
     "output_type": "stream",
     "text": [
      "['acmLKFE.M', 'acmLKFE.S', 'acmLKAA.M', 'acmLKAA.S', 'acmLKIE.M', 'acmLKIE.S', 'acmLAFE.M', 'acmLAFE.S', 'acmLFAA.M', 'acmLFAA.S', 'acmLHPFE.M', 'acmLHPFE.S', 'acmLHPAA.M', 'acmLHPAA.S', 'acmLHPIE.M', 'acmLHPIE.S', 'acmLSPFE.M', 'acmLSPFE.S', 'acmLSPML.M', 'acmLSPML.S', 'acmLSPIE.M', 'acmLSPIE.S', 'acmLFIE.M', 'acmLFIE.S', 'acmRKFE.M', 'acmRKFE.S', 'acmRKAA.M', 'acmRKAA.S', 'acmRKIE.M', 'acmRKIE.S', 'acmRAFE.M', 'acmRAFE.S', 'acmRFAA.M', 'acmRFAA.S', 'acmRFIE.M', 'acmRFIE.S', 'acmRAIE.M', 'acmRAIE.S', 'acmLAIE.M', 'acmLAIE.S', 'acmRSHTILT.M', 'acmRSHTILT.S', 'acmRSHTILTOFF.M', 'acmRSHTILTOFF.S', 'acmRSHOBLI.M', 'acmRSHOBLI.S', 'acmRSHOBLIOFF.M', 'acmRSHOBLIOFF.S', 'acmRSHROT.M', 'acmRSHROT.S', 'acmRSHROTOFF.M', 'acmRSHROTOFF.S', 'acmLSHTILT.M', 'acmLSHTILT.S', 'acmLSHTILTOFF.M', 'acmLSHTILTOFF.S', 'acmLSHOBLI.M', 'acmLSHOBLI.S', 'acmLSHOBLIOFF.M', 'acmLSHOBLIOFF.S', 'acmLSHROT.M', 'acmLSHROT.S', 'acmLSHROTOFF.M', 'acmLSHROTOFF.S', 'acmRHPFE.M', 'acmRHPFE.S', 'acmRHPAA.M', 'acmRHPAA.S', 'acmRHPIE.M', 'acmRHPIE.S', 'acmRSPFE.M', 'acmRSPFE.S', 'acmRSPML.M', 'acmRSPML.S', 'acmRSPIE.M', 'acmRSPIE.S', 'acmRPTILT.M', 'acmRPTILT.S', 'acmRPOBLI.M', 'acmRPOBLI.S', 'acmRPROT.M', 'acmRPROT.S', 'acmLPTILT.M', 'acmLPTILT.S', 'acmLPOBLI.M', 'acmLPOBLI.S', 'acmLPROT.M', 'acmLPROT.S']\n",
      "<class 'list'>\n",
      "<class 'str'>\n",
      "88\n"
     ]
    }
   ],
   "source": [
    "all_col_name = []\n",
    "\n",
    "for col in k_trail_one.columns:\n",
    "    all_col_name.append(col)\n",
    "\n",
    "print(all_col_name)\n",
    "print(type(all_col_name))\n",
    "print(type(all_col_name[0]))\n",
    "print(len(all_col_name))"
   ]
  },
  {
   "cell_type": "code",
   "execution_count": 9,
   "metadata": {},
   "outputs": [],
   "source": [
    "def is_standard_dev_col(col_name):\n",
    "    \n",
    "    col_name_length = len(col_name)\n",
    "    last_two = \"\"\n",
    "    last_two = col_name[col_name_length-2] + col_name[col_name_length-1]\n",
    "    \n",
    "    if(last_two == \".S\"):\n",
    "        return True\n",
    "    \n",
    "    return False"
   ]
  },
  {
   "cell_type": "code",
   "execution_count": 10,
   "metadata": {},
   "outputs": [],
   "source": [
    "def drop_standard_deviation_col(dataset):\n",
    "    \n",
    "    total_col = dataset.shape[1]\n",
    "    \n",
    "    for i in range(total_col):\n",
    "        \n",
    "        col_name = all_col_name[i]\n",
    "        \n",
    "        if(is_standard_dev_col(col_name)):\n",
    "            dataset.drop(col_name, axis = 1, inplace = True)\n",
    "        \n",
    "        i += 1\n",
    "        \n",
    "    return dataset"
   ]
  },
  {
   "cell_type": "code",
   "execution_count": 11,
   "metadata": {},
   "outputs": [],
   "source": [
    "k_trail_one = drop_standard_deviation_col(k_trail_one)\n",
    "k_trail_two = drop_standard_deviation_col(k_trail_two)\n",
    "k_trail_three = drop_standard_deviation_col(k_trail_three)\n",
    "k_trail_four = drop_standard_deviation_col(k_trail_four)\n",
    "k_trail_five = drop_standard_deviation_col(k_trail_five)\n",
    "k_trail_six = drop_standard_deviation_col(k_trail_six)\n",
    "k_trail_seven = drop_standard_deviation_col(k_trail_seven)\n",
    "k_trail_eight = drop_standard_deviation_col(k_trail_eight)\n",
    "k_trail_nine = drop_standard_deviation_col(k_trail_nine)"
   ]
  },
  {
   "cell_type": "code",
   "execution_count": 12,
   "metadata": {},
   "outputs": [
    {
     "name": "stdout",
     "output_type": "stream",
     "text": [
      "(101, 44)\n",
      "(101, 44)\n",
      "(101, 44)\n",
      "(101, 44)\n",
      "(101, 44)\n",
      "(101, 44)\n",
      "(101, 44)\n",
      "(101, 44)\n",
      "(101, 44)\n"
     ]
    }
   ],
   "source": [
    "print(k_trail_one.shape)\n",
    "print(k_trail_two.shape)\n",
    "print(k_trail_three.shape)\n",
    "print(k_trail_four.shape)\n",
    "print(k_trail_five.shape)\n",
    "print(k_trail_six.shape)\n",
    "print(k_trail_seven.shape)\n",
    "print(k_trail_eight.shape)\n",
    "print(k_trail_nine.shape)"
   ]
  },
  {
   "cell_type": "code",
   "execution_count": 13,
   "metadata": {},
   "outputs": [
    {
     "data": {
      "text/html": [
       "<div>\n",
       "<style scoped>\n",
       "    .dataframe tbody tr th:only-of-type {\n",
       "        vertical-align: middle;\n",
       "    }\n",
       "\n",
       "    .dataframe tbody tr th {\n",
       "        vertical-align: top;\n",
       "    }\n",
       "\n",
       "    .dataframe thead th {\n",
       "        text-align: right;\n",
       "    }\n",
       "</style>\n",
       "<table border=\"1\" class=\"dataframe\">\n",
       "  <thead>\n",
       "    <tr style=\"text-align: right;\">\n",
       "      <th></th>\n",
       "      <th>acmLKFE.M</th>\n",
       "      <th>acmLKAA.M</th>\n",
       "      <th>acmLKIE.M</th>\n",
       "      <th>acmLAFE.M</th>\n",
       "      <th>acmLFAA.M</th>\n",
       "      <th>acmLHPFE.M</th>\n",
       "      <th>acmLHPAA.M</th>\n",
       "      <th>acmLHPIE.M</th>\n",
       "      <th>acmLSPFE.M</th>\n",
       "      <th>acmLSPML.M</th>\n",
       "      <th>...</th>\n",
       "      <th>acmRHPIE.M</th>\n",
       "      <th>acmRSPFE.M</th>\n",
       "      <th>acmRSPML.M</th>\n",
       "      <th>acmRSPIE.M</th>\n",
       "      <th>acmRPTILT.M</th>\n",
       "      <th>acmRPOBLI.M</th>\n",
       "      <th>acmRPROT.M</th>\n",
       "      <th>acmLPTILT.M</th>\n",
       "      <th>acmLPOBLI.M</th>\n",
       "      <th>acmLPROT.M</th>\n",
       "    </tr>\n",
       "  </thead>\n",
       "  <tbody>\n",
       "    <tr>\n",
       "      <th>0</th>\n",
       "      <td>15.3</td>\n",
       "      <td>2.4</td>\n",
       "      <td>-11.2</td>\n",
       "      <td>4.0</td>\n",
       "      <td>1.2</td>\n",
       "      <td>32.2</td>\n",
       "      <td>-8.1</td>\n",
       "      <td>-3.6</td>\n",
       "      <td>-39.0</td>\n",
       "      <td>3.2</td>\n",
       "      <td>...</td>\n",
       "      <td>-11.4</td>\n",
       "      <td>-38.5</td>\n",
       "      <td>-8.2</td>\n",
       "      <td>5.7</td>\n",
       "      <td>3.6</td>\n",
       "      <td>2.7</td>\n",
       "      <td>1.9</td>\n",
       "      <td>5.1</td>\n",
       "      <td>-1.4</td>\n",
       "      <td>7.0</td>\n",
       "    </tr>\n",
       "    <tr>\n",
       "      <th>1</th>\n",
       "      <td>16.7</td>\n",
       "      <td>1.9</td>\n",
       "      <td>-10.1</td>\n",
       "      <td>3.3</td>\n",
       "      <td>1.1</td>\n",
       "      <td>32.2</td>\n",
       "      <td>-7.7</td>\n",
       "      <td>-4.7</td>\n",
       "      <td>-38.8</td>\n",
       "      <td>3.0</td>\n",
       "      <td>...</td>\n",
       "      <td>-11.6</td>\n",
       "      <td>-38.4</td>\n",
       "      <td>-8.5</td>\n",
       "      <td>5.7</td>\n",
       "      <td>3.7</td>\n",
       "      <td>2.9</td>\n",
       "      <td>1.8</td>\n",
       "      <td>5.2</td>\n",
       "      <td>-1.3</td>\n",
       "      <td>6.9</td>\n",
       "    </tr>\n",
       "    <tr>\n",
       "      <th>2</th>\n",
       "      <td>18.0</td>\n",
       "      <td>1.5</td>\n",
       "      <td>-8.6</td>\n",
       "      <td>2.4</td>\n",
       "      <td>0.6</td>\n",
       "      <td>32.1</td>\n",
       "      <td>-7.2</td>\n",
       "      <td>-5.5</td>\n",
       "      <td>-38.6</td>\n",
       "      <td>2.7</td>\n",
       "      <td>...</td>\n",
       "      <td>-11.4</td>\n",
       "      <td>-38.3</td>\n",
       "      <td>-8.8</td>\n",
       "      <td>5.6</td>\n",
       "      <td>3.8</td>\n",
       "      <td>3.1</td>\n",
       "      <td>1.6</td>\n",
       "      <td>5.3</td>\n",
       "      <td>-1.2</td>\n",
       "      <td>6.7</td>\n",
       "    </tr>\n",
       "  </tbody>\n",
       "</table>\n",
       "<p>3 rows × 44 columns</p>\n",
       "</div>"
      ],
      "text/plain": [
       "   acmLKFE.M  acmLKAA.M  acmLKIE.M  acmLAFE.M  acmLFAA.M  acmLHPFE.M  \\\n",
       "0       15.3        2.4      -11.2        4.0        1.2        32.2   \n",
       "1       16.7        1.9      -10.1        3.3        1.1        32.2   \n",
       "2       18.0        1.5       -8.6        2.4        0.6        32.1   \n",
       "\n",
       "   acmLHPAA.M  acmLHPIE.M  acmLSPFE.M  acmLSPML.M  ...  acmRHPIE.M  \\\n",
       "0        -8.1        -3.6       -39.0         3.2  ...       -11.4   \n",
       "1        -7.7        -4.7       -38.8         3.0  ...       -11.6   \n",
       "2        -7.2        -5.5       -38.6         2.7  ...       -11.4   \n",
       "\n",
       "   acmRSPFE.M  acmRSPML.M  acmRSPIE.M  acmRPTILT.M  acmRPOBLI.M  acmRPROT.M  \\\n",
       "0       -38.5        -8.2         5.7          3.6          2.7         1.9   \n",
       "1       -38.4        -8.5         5.7          3.7          2.9         1.8   \n",
       "2       -38.3        -8.8         5.6          3.8          3.1         1.6   \n",
       "\n",
       "   acmLPTILT.M  acmLPOBLI.M  acmLPROT.M  \n",
       "0          5.1         -1.4         7.0  \n",
       "1          5.2         -1.3         6.9  \n",
       "2          5.3         -1.2         6.7  \n",
       "\n",
       "[3 rows x 44 columns]"
      ]
     },
     "execution_count": 13,
     "metadata": {},
     "output_type": "execute_result"
    }
   ],
   "source": [
    "k_trail_one.head(3)"
   ]
  },
  {
   "cell_type": "code",
   "execution_count": 14,
   "metadata": {},
   "outputs": [
    {
     "data": {
      "text/html": [
       "<div>\n",
       "<style scoped>\n",
       "    .dataframe tbody tr th:only-of-type {\n",
       "        vertical-align: middle;\n",
       "    }\n",
       "\n",
       "    .dataframe tbody tr th {\n",
       "        vertical-align: top;\n",
       "    }\n",
       "\n",
       "    .dataframe thead th {\n",
       "        text-align: right;\n",
       "    }\n",
       "</style>\n",
       "<table border=\"1\" class=\"dataframe\">\n",
       "  <thead>\n",
       "    <tr style=\"text-align: right;\">\n",
       "      <th></th>\n",
       "      <th>acmLKFE.M</th>\n",
       "      <th>acmLKAA.M</th>\n",
       "      <th>acmLKIE.M</th>\n",
       "      <th>acmLAFE.M</th>\n",
       "      <th>acmLFAA.M</th>\n",
       "      <th>acmLHPFE.M</th>\n",
       "      <th>acmLHPAA.M</th>\n",
       "      <th>acmLHPIE.M</th>\n",
       "      <th>acmLSPFE.M</th>\n",
       "      <th>acmLSPML.M</th>\n",
       "      <th>...</th>\n",
       "      <th>acmRHPIE.M</th>\n",
       "      <th>acmRSPFE.M</th>\n",
       "      <th>acmRSPML.M</th>\n",
       "      <th>acmRSPIE.M</th>\n",
       "      <th>acmRPTILT.M</th>\n",
       "      <th>acmRPOBLI.M</th>\n",
       "      <th>acmRPROT.M</th>\n",
       "      <th>acmLPTILT.M</th>\n",
       "      <th>acmLPOBLI.M</th>\n",
       "      <th>acmLPROT.M</th>\n",
       "    </tr>\n",
       "  </thead>\n",
       "  <tbody>\n",
       "    <tr>\n",
       "      <th>0</th>\n",
       "      <td>15.3</td>\n",
       "      <td>2.4</td>\n",
       "      <td>-12.0</td>\n",
       "      <td>2.8</td>\n",
       "      <td>1.1</td>\n",
       "      <td>32.1</td>\n",
       "      <td>-8.0</td>\n",
       "      <td>-3.7</td>\n",
       "      <td>-36.8</td>\n",
       "      <td>2.1</td>\n",
       "      <td>...</td>\n",
       "      <td>-11.5</td>\n",
       "      <td>-38.4</td>\n",
       "      <td>-7.3</td>\n",
       "      <td>5.8</td>\n",
       "      <td>3.7</td>\n",
       "      <td>1.7</td>\n",
       "      <td>4.3</td>\n",
       "      <td>5.5</td>\n",
       "      <td>-1.5</td>\n",
       "      <td>7.9</td>\n",
       "    </tr>\n",
       "    <tr>\n",
       "      <th>1</th>\n",
       "      <td>16.8</td>\n",
       "      <td>1.9</td>\n",
       "      <td>-10.5</td>\n",
       "      <td>2.2</td>\n",
       "      <td>0.9</td>\n",
       "      <td>32.2</td>\n",
       "      <td>-7.4</td>\n",
       "      <td>-4.7</td>\n",
       "      <td>-37.0</td>\n",
       "      <td>1.8</td>\n",
       "      <td>...</td>\n",
       "      <td>-11.6</td>\n",
       "      <td>-38.4</td>\n",
       "      <td>-7.5</td>\n",
       "      <td>5.9</td>\n",
       "      <td>3.8</td>\n",
       "      <td>1.8</td>\n",
       "      <td>4.3</td>\n",
       "      <td>5.6</td>\n",
       "      <td>-1.3</td>\n",
       "      <td>7.7</td>\n",
       "    </tr>\n",
       "    <tr>\n",
       "      <th>2</th>\n",
       "      <td>18.5</td>\n",
       "      <td>1.4</td>\n",
       "      <td>-8.7</td>\n",
       "      <td>1.8</td>\n",
       "      <td>0.0</td>\n",
       "      <td>32.2</td>\n",
       "      <td>-6.9</td>\n",
       "      <td>-5.3</td>\n",
       "      <td>-37.3</td>\n",
       "      <td>1.5</td>\n",
       "      <td>...</td>\n",
       "      <td>-11.4</td>\n",
       "      <td>-38.4</td>\n",
       "      <td>-7.8</td>\n",
       "      <td>5.9</td>\n",
       "      <td>3.8</td>\n",
       "      <td>2.0</td>\n",
       "      <td>4.4</td>\n",
       "      <td>5.6</td>\n",
       "      <td>-1.1</td>\n",
       "      <td>7.5</td>\n",
       "    </tr>\n",
       "  </tbody>\n",
       "</table>\n",
       "<p>3 rows × 44 columns</p>\n",
       "</div>"
      ],
      "text/plain": [
       "   acmLKFE.M  acmLKAA.M  acmLKIE.M  acmLAFE.M  acmLFAA.M  acmLHPFE.M  \\\n",
       "0       15.3        2.4      -12.0        2.8        1.1        32.1   \n",
       "1       16.8        1.9      -10.5        2.2        0.9        32.2   \n",
       "2       18.5        1.4       -8.7        1.8        0.0        32.2   \n",
       "\n",
       "   acmLHPAA.M  acmLHPIE.M  acmLSPFE.M  acmLSPML.M  ...  acmRHPIE.M  \\\n",
       "0        -8.0        -3.7       -36.8         2.1  ...       -11.5   \n",
       "1        -7.4        -4.7       -37.0         1.8  ...       -11.6   \n",
       "2        -6.9        -5.3       -37.3         1.5  ...       -11.4   \n",
       "\n",
       "   acmRSPFE.M  acmRSPML.M  acmRSPIE.M  acmRPTILT.M  acmRPOBLI.M  acmRPROT.M  \\\n",
       "0       -38.4        -7.3         5.8          3.7          1.7         4.3   \n",
       "1       -38.4        -7.5         5.9          3.8          1.8         4.3   \n",
       "2       -38.4        -7.8         5.9          3.8          2.0         4.4   \n",
       "\n",
       "   acmLPTILT.M  acmLPOBLI.M  acmLPROT.M  \n",
       "0          5.5         -1.5         7.9  \n",
       "1          5.6         -1.3         7.7  \n",
       "2          5.6         -1.1         7.5  \n",
       "\n",
       "[3 rows x 44 columns]"
      ]
     },
     "execution_count": 14,
     "metadata": {},
     "output_type": "execute_result"
    }
   ],
   "source": [
    "k_trail_two.head(3)"
   ]
  },
  {
   "cell_type": "code",
   "execution_count": 15,
   "metadata": {},
   "outputs": [],
   "source": [
    "training_data = pd.DataFrame()"
   ]
  },
  {
   "cell_type": "code",
   "execution_count": 16,
   "metadata": {},
   "outputs": [
    {
     "data": {
      "text/plain": [
       "((707, 44), (707, 1))"
      ]
     },
     "execution_count": 16,
     "metadata": {},
     "output_type": "execute_result"
    }
   ],
   "source": [
    "training_data = pd.concat([k_trail_one, k_trail_two], ignore_index=True)\n",
    "training_data_label = pd.concat([y_label, y_label], ignore_index = True)\n",
    "\n",
    "training_data = pd.concat([training_data, k_trail_three], ignore_index=True)\n",
    "training_data_label = pd.concat([training_data_label, y_label], ignore_index = True)\n",
    "\n",
    "training_data = pd.concat([training_data, k_trail_four], ignore_index=True)\n",
    "training_data_label = pd.concat([training_data_label, y_label], ignore_index = True)\n",
    "\n",
    "training_data = pd.concat([training_data, k_trail_five], ignore_index=True)\n",
    "training_data_label = pd.concat([training_data_label, y_label], ignore_index = True)\n",
    "\n",
    "training_data = pd.concat([training_data, k_trail_six], ignore_index=True)\n",
    "training_data_label = pd.concat([training_data_label, y_label], ignore_index = True)\n",
    "\n",
    "training_data = pd.concat([training_data, k_trail_seven], ignore_index=True)\n",
    "training_data_label = pd.concat([training_data_label, y_label], ignore_index = True)\n",
    "\n",
    "training_data.shape, training_data_label.shape"
   ]
  },
  {
   "cell_type": "code",
   "execution_count": 17,
   "metadata": {},
   "outputs": [],
   "source": [
    "column_list = training_data.columns\n",
    "updated_column_list = []\n",
    "\n",
    "total_column = column_list.size\n",
    "\n",
    "for i in range(total_column):\n",
    "    \n",
    "    column_name = column_list[i]\n",
    "    column_name_length = len(column_name)\n",
    "    updated_column_name = column_name[:column_name_length-2] + \"_\" + column_name[-1]\n",
    "    \n",
    "    updated_column_list.append(updated_column_name)\n",
    "    \n",
    "    i += 1\n",
    "    \n",
    "updated_column_list\n",
    "\n",
    "training_data.columns = updated_column_list"
   ]
  },
  {
   "cell_type": "code",
   "execution_count": 18,
   "metadata": {},
   "outputs": [
    {
     "data": {
      "text/html": [
       "<div>\n",
       "<style scoped>\n",
       "    .dataframe tbody tr th:only-of-type {\n",
       "        vertical-align: middle;\n",
       "    }\n",
       "\n",
       "    .dataframe tbody tr th {\n",
       "        vertical-align: top;\n",
       "    }\n",
       "\n",
       "    .dataframe thead th {\n",
       "        text-align: right;\n",
       "    }\n",
       "</style>\n",
       "<table border=\"1\" class=\"dataframe\">\n",
       "  <thead>\n",
       "    <tr style=\"text-align: right;\">\n",
       "      <th></th>\n",
       "      <th>acmLKFE_M</th>\n",
       "      <th>acmLKAA_M</th>\n",
       "      <th>acmLKIE_M</th>\n",
       "      <th>acmLAFE_M</th>\n",
       "      <th>acmLFAA_M</th>\n",
       "      <th>acmLHPFE_M</th>\n",
       "      <th>acmLHPAA_M</th>\n",
       "      <th>acmLHPIE_M</th>\n",
       "      <th>acmLSPFE_M</th>\n",
       "      <th>acmLSPML_M</th>\n",
       "      <th>...</th>\n",
       "      <th>acmRHPIE_M</th>\n",
       "      <th>acmRSPFE_M</th>\n",
       "      <th>acmRSPML_M</th>\n",
       "      <th>acmRSPIE_M</th>\n",
       "      <th>acmRPTILT_M</th>\n",
       "      <th>acmRPOBLI_M</th>\n",
       "      <th>acmRPROT_M</th>\n",
       "      <th>acmLPTILT_M</th>\n",
       "      <th>acmLPOBLI_M</th>\n",
       "      <th>acmLPROT_M</th>\n",
       "    </tr>\n",
       "  </thead>\n",
       "  <tbody>\n",
       "    <tr>\n",
       "      <th>0</th>\n",
       "      <td>15.3</td>\n",
       "      <td>2.4</td>\n",
       "      <td>-11.2</td>\n",
       "      <td>4.0</td>\n",
       "      <td>1.2</td>\n",
       "      <td>32.2</td>\n",
       "      <td>-8.1</td>\n",
       "      <td>-3.6</td>\n",
       "      <td>-39.0</td>\n",
       "      <td>3.2</td>\n",
       "      <td>...</td>\n",
       "      <td>-11.4</td>\n",
       "      <td>-38.5</td>\n",
       "      <td>-8.2</td>\n",
       "      <td>5.7</td>\n",
       "      <td>3.6</td>\n",
       "      <td>2.7</td>\n",
       "      <td>1.9</td>\n",
       "      <td>5.1</td>\n",
       "      <td>-1.4</td>\n",
       "      <td>7.0</td>\n",
       "    </tr>\n",
       "    <tr>\n",
       "      <th>1</th>\n",
       "      <td>16.7</td>\n",
       "      <td>1.9</td>\n",
       "      <td>-10.1</td>\n",
       "      <td>3.3</td>\n",
       "      <td>1.1</td>\n",
       "      <td>32.2</td>\n",
       "      <td>-7.7</td>\n",
       "      <td>-4.7</td>\n",
       "      <td>-38.8</td>\n",
       "      <td>3.0</td>\n",
       "      <td>...</td>\n",
       "      <td>-11.6</td>\n",
       "      <td>-38.4</td>\n",
       "      <td>-8.5</td>\n",
       "      <td>5.7</td>\n",
       "      <td>3.7</td>\n",
       "      <td>2.9</td>\n",
       "      <td>1.8</td>\n",
       "      <td>5.2</td>\n",
       "      <td>-1.3</td>\n",
       "      <td>6.9</td>\n",
       "    </tr>\n",
       "    <tr>\n",
       "      <th>2</th>\n",
       "      <td>18.0</td>\n",
       "      <td>1.5</td>\n",
       "      <td>-8.6</td>\n",
       "      <td>2.4</td>\n",
       "      <td>0.6</td>\n",
       "      <td>32.1</td>\n",
       "      <td>-7.2</td>\n",
       "      <td>-5.5</td>\n",
       "      <td>-38.6</td>\n",
       "      <td>2.7</td>\n",
       "      <td>...</td>\n",
       "      <td>-11.4</td>\n",
       "      <td>-38.3</td>\n",
       "      <td>-8.8</td>\n",
       "      <td>5.6</td>\n",
       "      <td>3.8</td>\n",
       "      <td>3.1</td>\n",
       "      <td>1.6</td>\n",
       "      <td>5.3</td>\n",
       "      <td>-1.2</td>\n",
       "      <td>6.7</td>\n",
       "    </tr>\n",
       "  </tbody>\n",
       "</table>\n",
       "<p>3 rows × 44 columns</p>\n",
       "</div>"
      ],
      "text/plain": [
       "   acmLKFE_M  acmLKAA_M  acmLKIE_M  acmLAFE_M  acmLFAA_M  acmLHPFE_M  \\\n",
       "0       15.3        2.4      -11.2        4.0        1.2        32.2   \n",
       "1       16.7        1.9      -10.1        3.3        1.1        32.2   \n",
       "2       18.0        1.5       -8.6        2.4        0.6        32.1   \n",
       "\n",
       "   acmLHPAA_M  acmLHPIE_M  acmLSPFE_M  acmLSPML_M  ...  acmRHPIE_M  \\\n",
       "0        -8.1        -3.6       -39.0         3.2  ...       -11.4   \n",
       "1        -7.7        -4.7       -38.8         3.0  ...       -11.6   \n",
       "2        -7.2        -5.5       -38.6         2.7  ...       -11.4   \n",
       "\n",
       "   acmRSPFE_M  acmRSPML_M  acmRSPIE_M  acmRPTILT_M  acmRPOBLI_M  acmRPROT_M  \\\n",
       "0       -38.5        -8.2         5.7          3.6          2.7         1.9   \n",
       "1       -38.4        -8.5         5.7          3.7          2.9         1.8   \n",
       "2       -38.3        -8.8         5.6          3.8          3.1         1.6   \n",
       "\n",
       "   acmLPTILT_M  acmLPOBLI_M  acmLPROT_M  \n",
       "0          5.1         -1.4         7.0  \n",
       "1          5.2         -1.3         6.9  \n",
       "2          5.3         -1.2         6.7  \n",
       "\n",
       "[3 rows x 44 columns]"
      ]
     },
     "execution_count": 18,
     "metadata": {},
     "output_type": "execute_result"
    }
   ],
   "source": [
    "training_data.head(3)"
   ]
  },
  {
   "cell_type": "code",
   "execution_count": 19,
   "metadata": {},
   "outputs": [
    {
     "name": "stdout",
     "output_type": "stream",
     "text": [
      "acmLKFE_M            0\n",
      "acmLKAA_M            0\n",
      "acmLKIE_M            0\n",
      "acmLAFE_M            0\n",
      "acmLFAA_M            0\n",
      "acmLHPFE_M           0\n",
      "acmLHPAA_M           0\n",
      "acmLHPIE_M           0\n",
      "acmLSPFE_M         120\n",
      "acmLSPML_M         120\n",
      "acmLSPIE_M         120\n",
      "acmLFIE_M            0\n",
      "acmRKFE_M            0\n",
      "acmRKAA_M            0\n",
      "acmRKIE_M            0\n",
      "acmRAFE_M            0\n",
      "acmRFAA_M            0\n",
      "acmRFIE_M            0\n",
      "acmRAIE_M            0\n",
      "acmLAIE_M            0\n",
      "acmRSHTILT_M        19\n",
      "acmRSHTILTOFF_M     19\n",
      "acmRSHOBLI_M        19\n",
      "acmRSHOBLIOFF_M     19\n",
      "acmRSHROT_M         19\n",
      "acmRSHROTOFF_M      19\n",
      "acmLSHTILT_M       120\n",
      "acmLSHTILTOFF_M    120\n",
      "acmLSHOBLI_M       120\n",
      "acmLSHOBLIOFF_M    120\n",
      "acmLSHROT_M        120\n",
      "acmLSHROTOFF_M     120\n",
      "acmRHPFE_M           0\n",
      "acmRHPAA_M           0\n",
      "acmRHPIE_M           0\n",
      "acmRSPFE_M          19\n",
      "acmRSPML_M          19\n",
      "acmRSPIE_M          19\n",
      "acmRPTILT_M          0\n",
      "acmRPOBLI_M          0\n",
      "acmRPROT_M           0\n",
      "acmLPTILT_M          0\n",
      "acmLPOBLI_M          0\n",
      "acmLPROT_M           0\n",
      "dtype: int64\n"
     ]
    }
   ],
   "source": [
    "print(training_data.isnull().sum())"
   ]
  },
  {
   "cell_type": "code",
   "execution_count": 20,
   "metadata": {},
   "outputs": [],
   "source": [
    "training_data.acmLSPFE_M.fillna(training_data.acmLSPFE_M.mean(), inplace = True)\n",
    "training_data.acmLSPML_M.fillna(training_data.acmLSPML_M.mean(), inplace = True)\n",
    "training_data.acmLSPIE_M.fillna(training_data.acmLSPIE_M.mean(), inplace = True)\n",
    "training_data.acmRSHTILT_M.fillna(training_data.acmRSHTILT_M.mean(), inplace = True)\n",
    "training_data.acmRSHTILTOFF_M.fillna(training_data.acmRSHTILTOFF_M.mean(), inplace = True)\n",
    "training_data.acmRSHOBLI_M.fillna(training_data.acmRSHOBLI_M.mean(), inplace = True)\n",
    "training_data.acmRSHOBLIOFF_M.fillna(training_data.acmRSHOBLIOFF_M.mean(), inplace = True)\n",
    "training_data.acmRSHROT_M.fillna(training_data.acmRSHROT_M.mean(), inplace = True)\n",
    "training_data.acmRSHROTOFF_M.fillna(training_data.acmRSHROTOFF_M.mean(), inplace = True)\n",
    "training_data.acmLSHTILT_M.fillna(training_data.acmLSHTILT_M.mean(), inplace = True)\n",
    "training_data.acmLSHTILTOFF_M.fillna(training_data.acmLSHTILTOFF_M.mean(), inplace = True)\n",
    "training_data.acmLSHOBLI_M.fillna(training_data.acmLSHOBLI_M.mean(), inplace = True)\n",
    "training_data.acmLSHOBLIOFF_M.fillna(training_data.acmLSHOBLIOFF_M.mean(), inplace = True)\n",
    "training_data.acmLSHROT_M.fillna(training_data.acmLSHROT_M.mean(), inplace = True)\n",
    "training_data.acmLSHROTOFF_M.fillna(training_data.acmLSHROTOFF_M.mean(), inplace = True)\n",
    "training_data.acmRSPFE_M.fillna(training_data.acmRSPFE_M.mean(), inplace = True)\n",
    "training_data.acmRSPML_M.fillna(training_data.acmRSPML_M.mean(), inplace = True)\n",
    "training_data.acmRSPIE_M.fillna(training_data.acmRSPIE_M.mean(), inplace = True)"
   ]
  },
  {
   "cell_type": "markdown",
   "metadata": {},
   "source": [
    "## Decision Tree"
   ]
  },
  {
   "cell_type": "code",
   "execution_count": 21,
   "metadata": {},
   "outputs": [],
   "source": [
    "from sklearn.tree import DecisionTreeClassifier"
   ]
  },
  {
   "cell_type": "code",
   "execution_count": 22,
   "metadata": {},
   "outputs": [
    {
     "data": {
      "text/plain": [
       "DecisionTreeClassifier()"
      ]
     },
     "execution_count": 22,
     "metadata": {},
     "output_type": "execute_result"
    }
   ],
   "source": [
    "decision_tree_clf = DecisionTreeClassifier()\n",
    "decision_tree_clf.fit(training_data, training_data_label)"
   ]
  },
  {
   "cell_type": "code",
   "execution_count": 23,
   "metadata": {},
   "outputs": [
    {
     "data": {
      "text/plain": [
       "0.45544554455445546"
      ]
     },
     "execution_count": 23,
     "metadata": {},
     "output_type": "execute_result"
    }
   ],
   "source": [
    "decision_tree_clf.score(k_trail_eight, y_label)"
   ]
  },
  {
   "cell_type": "code",
   "execution_count": 24,
   "metadata": {
    "scrolled": true
   },
   "outputs": [
    {
     "data": {
      "text/plain": [
       "array(['Loading Response', 'Loading Response', 'Loading Response',\n",
       "       'Loading Response', 'Swing', 'Mid Stance', 'Mid Stance',\n",
       "       'Mid Stance', 'Mid Stance', 'Mid Stance', 'Mid Stance',\n",
       "       'Mid Stance', 'Mid Stance', 'Mid Stance', 'Mid Stance',\n",
       "       'Mid Stance', 'Mid Stance', 'Mid Stance', 'Mid Stance',\n",
       "       'Mid Stance', 'Mid Stance', 'Mid Stance', 'Mid Stance',\n",
       "       'Mid Stance', 'Mid Stance', 'Mid Stance', 'Mid Stance',\n",
       "       'Mid Stance', 'Mid Stance', 'Mid Stance', 'Mid Stance',\n",
       "       'Mid Stance', 'Mid Stance', 'Mid Stance', 'Terminal Stance',\n",
       "       'Terminal Stance', 'Terminal Stance', 'Terminal Stance',\n",
       "       'Terminal Stance', 'Terminal Stance', 'Terminal Stance',\n",
       "       'Terminal Stance', 'Terminal Stance', 'Terminal Stance',\n",
       "       'Terminal Stance', 'Terminal Stance', 'Terminal Stance',\n",
       "       'Terminal Stance', 'Terminal Stance', 'Terminal Stance',\n",
       "       'Terminal Stance', 'Terminal Stance', 'Terminal Stance',\n",
       "       'Terminal Stance', 'Terminal Stance', 'Pre Swing', 'Pre Swing',\n",
       "       'Pre Swing', 'Pre Swing', 'Pre Swing', 'Loading Response',\n",
       "       'Loading Response', 'Loading Response', 'Loading Response',\n",
       "       'Loading Response', 'Loading Response', 'Loading Response',\n",
       "       'Loading Response', 'Loading Response', 'Loading Response',\n",
       "       'Loading Response', 'Loading Response', 'Loading Response',\n",
       "       'Loading Response', 'Loading Response', 'Loading Response',\n",
       "       'Loading Response', 'Loading Response', 'Loading Response',\n",
       "       'Loading Response', 'Loading Response', 'Loading Response',\n",
       "       'Loading Response', 'Loading Response', 'Loading Response',\n",
       "       'Loading Response', 'Loading Response', 'Loading Response',\n",
       "       'Loading Response', 'Loading Response', 'Loading Response',\n",
       "       'Loading Response', 'Loading Response', 'Loading Response',\n",
       "       'Loading Response', 'Loading Response', 'Loading Response',\n",
       "       'Loading Response', 'Loading Response', 'Loading Response',\n",
       "       'Swing'], dtype=object)"
      ]
     },
     "execution_count": 24,
     "metadata": {},
     "output_type": "execute_result"
    }
   ],
   "source": [
    "decision_tree_result = decision_tree_clf.predict(k_trail_eight)\n",
    "decision_tree_result"
   ]
  },
  {
   "cell_type": "code",
   "execution_count": 30,
   "metadata": {},
   "outputs": [],
   "source": [
    "dot_data = export_graphviz(decision_tree_clf, out_file = None, filled = True, class_names = ['Loading Response', 'Mid Stance', 'Terminal Stance', 'Pre swing', 'swing'])\n",
    "\n",
    "graph = pydotplus.graph_from_dot_data(dot_data)\n",
    "#graph.write_pdf(\"decision_tree_Gait_phase_prediction2.pdf\")"
   ]
  },
  {
   "cell_type": "code",
   "execution_count": 31,
   "metadata": {},
   "outputs": [
    {
     "data": {
      "text/plain": [
       "array([[ 4,  5,  0,  1,  0],\n",
       "       [ 0, 20,  0,  0,  0],\n",
       "       [ 0,  0,  5,  0,  5],\n",
       "       [40,  0,  0,  1,  0],\n",
       "       [ 0,  4,  0,  0, 16]], dtype=int64)"
      ]
     },
     "execution_count": 31,
     "metadata": {},
     "output_type": "execute_result"
    }
   ],
   "source": [
    "confusion_matrix(y_label, decision_tree_result)"
   ]
  },
  {
   "cell_type": "markdown",
   "metadata": {},
   "source": [
    "## SVM"
   ]
  },
  {
   "cell_type": "code",
   "execution_count": 37,
   "metadata": {},
   "outputs": [],
   "source": [
    "import numpy as np\n",
    "from sklearn.svm import SVC"
   ]
  },
  {
   "cell_type": "code",
   "execution_count": 38,
   "metadata": {},
   "outputs": [
    {
     "name": "stderr",
     "output_type": "stream",
     "text": [
      "C:\\Users\\abhishek\\Anaconda3\\lib\\site-packages\\sklearn\\utils\\validation.py:72: DataConversionWarning: A column-vector y was passed when a 1d array was expected. Please change the shape of y to (n_samples, ), for example using ravel().\n",
      "  return f(**kwargs)\n"
     ]
    }
   ],
   "source": [
    "svm_clf = SVC(kernel = 'linear', C=1).fit(training_data, training_data_label)"
   ]
  },
  {
   "cell_type": "code",
   "execution_count": 39,
   "metadata": {},
   "outputs": [
    {
     "data": {
      "text/plain": [
       "0.7326732673267327"
      ]
     },
     "execution_count": 39,
     "metadata": {},
     "output_type": "execute_result"
    }
   ],
   "source": [
    "svm_clf.score(k_trail_nine, y_label)"
   ]
  },
  {
   "cell_type": "code",
   "execution_count": 40,
   "metadata": {
    "scrolled": true
   },
   "outputs": [
    {
     "data": {
      "text/plain": [
       "array(['Loading Response', 'Loading Response', 'Loading Response',\n",
       "       'Loading Response', 'Loading Response', 'Loading Response',\n",
       "       'Loading Response', 'Loading Response', 'Loading Response',\n",
       "       'Mid Stance', 'Mid Stance', 'Mid Stance', 'Mid Stance',\n",
       "       'Mid Stance', 'Mid Stance', 'Mid Stance', 'Mid Stance',\n",
       "       'Mid Stance', 'Mid Stance', 'Mid Stance', 'Mid Stance',\n",
       "       'Mid Stance', 'Mid Stance', 'Mid Stance', 'Mid Stance',\n",
       "       'Mid Stance', 'Mid Stance', 'Mid Stance', 'Mid Stance',\n",
       "       'Mid Stance', 'Mid Stance', 'Terminal Stance', 'Terminal Stance',\n",
       "       'Terminal Stance', 'Terminal Stance', 'Terminal Stance',\n",
       "       'Terminal Stance', 'Terminal Stance', 'Terminal Stance',\n",
       "       'Terminal Stance', 'Terminal Stance', 'Terminal Stance',\n",
       "       'Terminal Stance', 'Terminal Stance', 'Terminal Stance',\n",
       "       'Terminal Stance', 'Terminal Stance', 'Terminal Stance',\n",
       "       'Terminal Stance', 'Terminal Stance', 'Terminal Stance',\n",
       "       'Pre Swing', 'Pre Swing', 'Pre Swing', 'Pre Swing', 'Pre Swing',\n",
       "       'Pre Swing', 'Pre Swing', 'Pre Swing', 'Swing', 'Swing', 'Swing',\n",
       "       'Pre Swing', 'Pre Swing', 'Pre Swing', 'Pre Swing', 'Pre Swing',\n",
       "       'Swing', 'Swing', 'Swing', 'Swing', 'Swing', 'Swing', 'Swing',\n",
       "       'Swing', 'Loading Response', 'Loading Response',\n",
       "       'Loading Response', 'Loading Response', 'Loading Response',\n",
       "       'Loading Response', 'Swing', 'Swing', 'Swing', 'Swing', 'Swing',\n",
       "       'Swing', 'Swing', 'Swing', 'Loading Response', 'Loading Response',\n",
       "       'Loading Response', 'Loading Response', 'Loading Response',\n",
       "       'Loading Response', 'Loading Response', 'Loading Response',\n",
       "       'Loading Response', 'Loading Response', 'Loading Response',\n",
       "       'Loading Response'], dtype=object)"
      ]
     },
     "execution_count": 40,
     "metadata": {},
     "output_type": "execute_result"
    }
   ],
   "source": [
    "svm_clf_result = svm_clf.predict(k_trail_nine)\n",
    "svm_clf_result"
   ]
  },
  {
   "cell_type": "code",
   "execution_count": 41,
   "metadata": {},
   "outputs": [
    {
     "data": {
      "text/plain": [
       "array([[ 9,  1,  0,  0,  0],\n",
       "       [ 0, 20,  0,  0,  0],\n",
       "       [ 0,  0,  8,  1,  1],\n",
       "       [18,  0,  5, 18,  0],\n",
       "       [ 0,  1,  0,  0, 19]], dtype=int64)"
      ]
     },
     "execution_count": 41,
     "metadata": {},
     "output_type": "execute_result"
    }
   ],
   "source": [
    "confusion_matrix(y_label, svm_clf_result)"
   ]
  },
  {
   "cell_type": "markdown",
   "metadata": {},
   "source": [
    "## KNN "
   ]
  },
  {
   "cell_type": "code",
   "execution_count": 42,
   "metadata": {},
   "outputs": [],
   "source": [
    "from sklearn.neighbors import KNeighborsClassifier"
   ]
  },
  {
   "cell_type": "code",
   "execution_count": 43,
   "metadata": {},
   "outputs": [
    {
     "name": "stderr",
     "output_type": "stream",
     "text": [
      "C:\\Users\\abhishek\\Anaconda3\\lib\\site-packages\\ipykernel_launcher.py:2: DataConversionWarning: A column-vector y was passed when a 1d array was expected. Please change the shape of y to (n_samples, ), for example using ravel().\n",
      "  \n"
     ]
    },
    {
     "data": {
      "text/plain": [
       "KNeighborsClassifier()"
      ]
     },
     "execution_count": 43,
     "metadata": {},
     "output_type": "execute_result"
    }
   ],
   "source": [
    "knn_clf = KNeighborsClassifier()\n",
    "knn_clf.fit(training_data, training_data_label)"
   ]
  },
  {
   "cell_type": "code",
   "execution_count": 44,
   "metadata": {},
   "outputs": [
    {
     "data": {
      "text/plain": [
       "0.7920792079207921"
      ]
     },
     "execution_count": 44,
     "metadata": {},
     "output_type": "execute_result"
    }
   ],
   "source": [
    "knn_clf.score(k_trail_eight, y_label)"
   ]
  },
  {
   "cell_type": "code",
   "execution_count": 45,
   "metadata": {
    "scrolled": true
   },
   "outputs": [
    {
     "data": {
      "text/plain": [
       "array(['Swing', 'Swing', 'Swing', 'Swing', 'Swing', 'Swing', 'Swing',\n",
       "       'Swing', 'Swing', 'Swing', 'Swing', 'Swing', 'Swing',\n",
       "       'Loading Response', 'Loading Response', 'Mid Stance', 'Mid Stance',\n",
       "       'Mid Stance', 'Mid Stance', 'Mid Stance', 'Mid Stance',\n",
       "       'Mid Stance', 'Mid Stance', 'Mid Stance', 'Mid Stance',\n",
       "       'Mid Stance', 'Mid Stance', 'Mid Stance', 'Mid Stance',\n",
       "       'Mid Stance', 'Mid Stance', 'Terminal Stance', 'Terminal Stance',\n",
       "       'Terminal Stance', 'Terminal Stance', 'Terminal Stance',\n",
       "       'Terminal Stance', 'Terminal Stance', 'Terminal Stance',\n",
       "       'Terminal Stance', 'Terminal Stance', 'Terminal Stance',\n",
       "       'Terminal Stance', 'Terminal Stance', 'Terminal Stance',\n",
       "       'Terminal Stance', 'Terminal Stance', 'Terminal Stance',\n",
       "       'Terminal Stance', 'Terminal Stance', 'Terminal Stance',\n",
       "       'Terminal Stance', 'Terminal Stance', 'Terminal Stance',\n",
       "       'Pre Swing', 'Pre Swing', 'Pre Swing', 'Pre Swing', 'Pre Swing',\n",
       "       'Pre Swing', 'Pre Swing', 'Swing', 'Swing', 'Swing', 'Swing',\n",
       "       'Swing', 'Swing', 'Swing', 'Swing', 'Swing', 'Swing', 'Swing',\n",
       "       'Swing', 'Swing', 'Swing', 'Swing', 'Swing', 'Swing', 'Swing',\n",
       "       'Swing', 'Swing', 'Swing', 'Swing', 'Swing', 'Swing', 'Swing',\n",
       "       'Swing', 'Swing', 'Swing', 'Swing', 'Swing', 'Swing', 'Swing',\n",
       "       'Swing', 'Swing', 'Swing', 'Swing', 'Swing', 'Swing', 'Swing',\n",
       "       'Swing'], dtype=object)"
      ]
     },
     "execution_count": 45,
     "metadata": {},
     "output_type": "execute_result"
    }
   ],
   "source": [
    "knn_clf_result = knn_clf.predict(k_trail_eight)\n",
    "knn_clf_result"
   ]
  },
  {
   "cell_type": "code",
   "execution_count": 46,
   "metadata": {},
   "outputs": [
    {
     "data": {
      "text/plain": [
       "array([[ 0,  0,  0, 10,  0],\n",
       "       [ 2, 15,  0,  3,  0],\n",
       "       [ 0,  0,  6,  0,  4],\n",
       "       [ 0,  0,  1, 40,  0],\n",
       "       [ 0,  1,  0,  0, 19]], dtype=int64)"
      ]
     },
     "execution_count": 46,
     "metadata": {},
     "output_type": "execute_result"
    }
   ],
   "source": [
    "confusion_matrix(y_label, knn_clf_result)"
   ]
  },
  {
   "cell_type": "markdown",
   "metadata": {},
   "source": [
    "## LogisticRegression"
   ]
  },
  {
   "cell_type": "code",
   "execution_count": 47,
   "metadata": {},
   "outputs": [],
   "source": [
    "from sklearn.linear_model import LogisticRegression"
   ]
  },
  {
   "cell_type": "code",
   "execution_count": 48,
   "metadata": {},
   "outputs": [
    {
     "name": "stderr",
     "output_type": "stream",
     "text": [
      "C:\\Users\\abhishek\\Anaconda3\\lib\\site-packages\\sklearn\\utils\\validation.py:72: DataConversionWarning: A column-vector y was passed when a 1d array was expected. Please change the shape of y to (n_samples, ), for example using ravel().\n",
      "  return f(**kwargs)\n",
      "C:\\Users\\abhishek\\Anaconda3\\lib\\site-packages\\sklearn\\linear_model\\_logistic.py:764: ConvergenceWarning: lbfgs failed to converge (status=1):\n",
      "STOP: TOTAL NO. of ITERATIONS REACHED LIMIT.\n",
      "\n",
      "Increase the number of iterations (max_iter) or scale the data as shown in:\n",
      "    https://scikit-learn.org/stable/modules/preprocessing.html\n",
      "Please also refer to the documentation for alternative solver options:\n",
      "    https://scikit-learn.org/stable/modules/linear_model.html#logistic-regression\n",
      "  extra_warning_msg=_LOGISTIC_SOLVER_CONVERGENCE_MSG)\n"
     ]
    },
    {
     "data": {
      "text/plain": [
       "LogisticRegression()"
      ]
     },
     "execution_count": 48,
     "metadata": {},
     "output_type": "execute_result"
    }
   ],
   "source": [
    "logistic_regression_clf = LogisticRegression()\n",
    "logistic_regression_clf.fit(training_data, training_data_label)"
   ]
  },
  {
   "cell_type": "code",
   "execution_count": 49,
   "metadata": {},
   "outputs": [
    {
     "data": {
      "text/plain": [
       "0.8811881188118812"
      ]
     },
     "execution_count": 49,
     "metadata": {},
     "output_type": "execute_result"
    }
   ],
   "source": [
    "logistic_regression_clf.score(k_trail_eight, y_label)"
   ]
  },
  {
   "cell_type": "code",
   "execution_count": 50,
   "metadata": {
    "scrolled": true
   },
   "outputs": [
    {
     "data": {
      "text/plain": [
       "array(['Loading Response', 'Loading Response', 'Loading Response',\n",
       "       'Loading Response', 'Loading Response', 'Loading Response',\n",
       "       'Loading Response', 'Loading Response', 'Mid Stance', 'Mid Stance',\n",
       "       'Mid Stance', 'Mid Stance', 'Mid Stance', 'Mid Stance',\n",
       "       'Mid Stance', 'Mid Stance', 'Mid Stance', 'Mid Stance',\n",
       "       'Mid Stance', 'Mid Stance', 'Mid Stance', 'Mid Stance',\n",
       "       'Mid Stance', 'Mid Stance', 'Mid Stance', 'Mid Stance',\n",
       "       'Mid Stance', 'Mid Stance', 'Mid Stance', 'Mid Stance',\n",
       "       'Mid Stance', 'Mid Stance', 'Mid Stance', 'Terminal Stance',\n",
       "       'Terminal Stance', 'Terminal Stance', 'Terminal Stance',\n",
       "       'Terminal Stance', 'Terminal Stance', 'Terminal Stance',\n",
       "       'Terminal Stance', 'Terminal Stance', 'Terminal Stance',\n",
       "       'Terminal Stance', 'Terminal Stance', 'Terminal Stance',\n",
       "       'Terminal Stance', 'Terminal Stance', 'Terminal Stance',\n",
       "       'Terminal Stance', 'Terminal Stance', 'Terminal Stance',\n",
       "       'Terminal Stance', 'Terminal Stance', 'Pre Swing', 'Pre Swing',\n",
       "       'Pre Swing', 'Pre Swing', 'Pre Swing', 'Pre Swing', 'Pre Swing',\n",
       "       'Pre Swing', 'Pre Swing', 'Swing', 'Swing', 'Swing', 'Swing',\n",
       "       'Swing', 'Swing', 'Swing', 'Swing', 'Swing', 'Swing', 'Swing',\n",
       "       'Swing', 'Swing', 'Swing', 'Swing', 'Swing', 'Swing', 'Swing',\n",
       "       'Swing', 'Swing', 'Swing', 'Swing', 'Swing', 'Swing', 'Swing',\n",
       "       'Swing', 'Swing', 'Swing', 'Swing', 'Swing', 'Swing', 'Swing',\n",
       "       'Swing', 'Swing', 'Swing', 'Swing', 'Swing', 'Swing'], dtype=object)"
      ]
     },
     "execution_count": 50,
     "metadata": {},
     "output_type": "execute_result"
    }
   ],
   "source": [
    "logistic_regression_result = logistic_regression_clf.predict(k_trail_eight)\n",
    "logistic_regression_result"
   ]
  },
  {
   "cell_type": "code",
   "execution_count": 51,
   "metadata": {},
   "outputs": [
    {
     "data": {
      "text/plain": [
       "array([[ 8,  2,  0,  0,  0],\n",
       "       [ 0, 20,  0,  0,  0],\n",
       "       [ 0,  0,  6,  0,  4],\n",
       "       [ 0,  0,  3, 38,  0],\n",
       "       [ 0,  3,  0,  0, 17]], dtype=int64)"
      ]
     },
     "execution_count": 51,
     "metadata": {},
     "output_type": "execute_result"
    }
   ],
   "source": [
    "confusion_matrix(y_label, logistic_regression_result)"
   ]
  },
  {
   "cell_type": "code",
   "execution_count": 52,
   "metadata": {},
   "outputs": [
    {
     "name": "stdout",
     "output_type": "stream",
     "text": [
      "acmLKFE.M      0\n",
      "acmLKFE.S      0\n",
      "acmLKAA.M      0\n",
      "acmLKAA.S      0\n",
      "acmLKIE.M      0\n",
      "              ..\n",
      "acmLPTILT.S    0\n",
      "acmLPOBLI.M    0\n",
      "acmLPOBLI.S    0\n",
      "acmLPROT.M     0\n",
      "acmLPROT.S     0\n",
      "Length: 88, dtype: int64\n"
     ]
    },
    {
     "data": {
      "text/plain": [
       "(1, 44)"
      ]
     },
     "execution_count": 52,
     "metadata": {},
     "output_type": "execute_result"
    }
   ],
   "source": [
    "one_row_test = pd.read_csv(r\"D:\\end sem project\\abhishek dataset\\1D Angle Cycle csv file\\one_row_test.csv\")\n",
    "\n",
    "one_row_test_y_label = pd.read_csv(r\"D:\\end sem project\\abhishek dataset\\1D Angle Cycle csv file\\one_row_test.csv\")\n",
    "\n",
    "\n",
    "print(one_row_test.isnull().sum())\n",
    "\n",
    "one_row_test = drop_standard_deviation_col(one_row_test)\n",
    "one_row_test.shape"
   ]
  },
  {
   "cell_type": "code",
   "execution_count": 53,
   "metadata": {},
   "outputs": [
    {
     "data": {
      "text/plain": [
       "array(['Mid Stance'], dtype=object)"
      ]
     },
     "execution_count": 53,
     "metadata": {},
     "output_type": "execute_result"
    }
   ],
   "source": [
    "one_row_test_result = svm_clf.predict(one_row_test)\n",
    "one_row_test_result"
   ]
  }
 ],
 "metadata": {
  "kernelspec": {
   "display_name": "Python 3",
   "language": "python",
   "name": "python3"
  },
  "language_info": {
   "codemirror_mode": {
    "name": "ipython",
    "version": 3
   },
   "file_extension": ".py",
   "mimetype": "text/x-python",
   "name": "python",
   "nbconvert_exporter": "python",
   "pygments_lexer": "ipython3",
   "version": "3.6.5"
  }
 },
 "nbformat": 4,
 "nbformat_minor": 2
}
